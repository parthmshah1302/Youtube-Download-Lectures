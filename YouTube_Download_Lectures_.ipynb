{
  "nbformat": 4,
  "nbformat_minor": 0,
  "metadata": {
    "colab": {
      "name": "YouTube Download Lectures .ipynb",
      "provenance": [],
      "authorship_tag": "ABX9TyNGlFjv2D6aVuXucjhs4LjT",
      "include_colab_link": true
    },
    "kernelspec": {
      "name": "python3",
      "display_name": "Python 3"
    },
    "language_info": {
      "name": "python"
    }
  },
  "cells": [
    {
      "cell_type": "markdown",
      "metadata": {
        "id": "view-in-github",
        "colab_type": "text"
      },
      "source": [
        "<a href=\"https://colab.research.google.com/github/parthmshah1302/Youtube-Download-Lectures/blob/master/YouTube_Download_Lectures_.ipynb\" target=\"_parent\"><img src=\"https://colab.research.google.com/assets/colab-badge.svg\" alt=\"Open In Colab\"/></a>"
      ]
    },
    {
      "cell_type": "code",
      "metadata": {
        "colab": {
          "base_uri": "https://localhost:8080/"
        },
        "id": "DoKXyQGDPK8o",
        "outputId": "01b3776e-26e6-4476-d229-fba021ea334c"
      },
      "source": [
        "from google.colab import drive\n",
        "drive.mount('/content/drive')"
      ],
      "execution_count": 1,
      "outputs": [
        {
          "output_type": "stream",
          "text": [
            "Mounted at /content/drive\n"
          ],
          "name": "stdout"
        }
      ]
    },
    {
      "cell_type": "code",
      "metadata": {
        "colab": {
          "base_uri": "https://localhost:8080/"
        },
        "id": "s888L__FPVXO",
        "outputId": "f0bcb2cd-2748-4705-ee03-8fd8c3a3b7cb"
      },
      "source": [
        "\"\"\"\n",
        "# requirements.txt\n",
        "pandas\n",
        "pytube\n",
        "\"\"\"\n",
        "!python -m pip install pytube\n",
        "!python -m pip install pandas"
      ],
      "execution_count": 8,
      "outputs": [
        {
          "output_type": "stream",
          "text": [
            "Requirement already satisfied: pytube in /usr/local/lib/python3.7/dist-packages (10.7.2)\n",
            "Requirement already satisfied: pandas in /usr/local/lib/python3.7/dist-packages (1.1.5)\n",
            "Requirement already satisfied: python-dateutil>=2.7.3 in /usr/local/lib/python3.7/dist-packages (from pandas) (2.8.1)\n",
            "Requirement already satisfied: numpy>=1.15.4 in /usr/local/lib/python3.7/dist-packages (from pandas) (1.19.5)\n",
            "Requirement already satisfied: pytz>=2017.2 in /usr/local/lib/python3.7/dist-packages (from pandas) (2018.9)\n",
            "Requirement already satisfied: six>=1.5 in /usr/local/lib/python3.7/dist-packages (from python-dateutil>=2.7.3->pandas) (1.15.0)\n"
          ],
          "name": "stdout"
        }
      ]
    },
    {
      "cell_type": "code",
      "metadata": {
        "colab": {
          "base_uri": "https://localhost:8080/"
        },
        "id": "5IqP764APeXu",
        "outputId": "b6347c99-4244-4cd9-d016-a0ebb1169428"
      },
      "source": [
        "import pytube\n",
        "import time\n",
        "import csv\n",
        "\"\"\"\n",
        "Visit this for an available playlist https://gist.github.com/fffaraz/f3dcf48ae93b6c04adb9d74b1de711e5 \n",
        "\"\"\"\n",
        "\"\"\"\n",
        "Only edit the code that is below a comment\n",
        "\"\"\"\n",
        "# Enter the folder name that you would like\n",
        "folder_name=input(\"Enter your folder name: \")\n",
        "\n",
        "total_start=time.time()\n",
        "SAVE_PATH = \"/content/drive/My Drive/YTLectures/\"+folder_name #to_do \n",
        "  \n",
        "#Enter name of uploaded file\n",
        "csv_filename='Parth COA _  S2_Lectures_Taken_and_Video_Links - Sheet1.csv'\n",
        "c=open('/content/'+csv_filename,'r')\n",
        "reader=csv.reader(c)\n",
        "link=[]\n",
        "checker='you'\n",
        "\n",
        "\n",
        "# Modify this to locate the column with the YT links\n",
        "for row in reader:\n",
        "  if checker in row[3]:\n",
        "    link.append(row[3])\n",
        "\n",
        "counter=1;\n",
        "for i in link: \n",
        "  lecture_start=time.time()\n",
        "  print(\"Current Lecture no is \"+str(counter)+\" and link is \"+i)\n",
        "  counter=counter+1\n",
        "  yt = pytube.YouTube(i)\n",
        "  stream = yt.streams.first()\n",
        "  stream.download(SAVE_PATH)\n",
        "  lecture_end=time.time()\n",
        "  print(\"This video took \"+str(lecture_end-lecture_start)+\" secs\")  \n",
        "\n",
        "print('Task Completed at '+SAVE_PATH) \n",
        "total_end=time.time()\n",
        "print(\"The entire task took \"+str(total_end-total_start)+\" secs\")"
      ],
      "execution_count": 32,
      "outputs": [
        {
          "output_type": "stream",
          "text": [
            "Enter your folder name: COA Lectures\n",
            "Current Lecture no is 1 and link is https://youtu.be/D1fZVmnd2Tw\n",
            "This video took 0.672222375869751 secs\n",
            "Current Lecture no is 2 and link is https://youtu.be/xymp7F7cNec\n",
            "This video took 9.144592046737671 secs\n",
            "Current Lecture no is 3 and link is https://youtu.be/Etuy_iLqkJ4\n",
            "This video took 10.484970331192017 secs\n",
            "Current Lecture no is 4 and link is https://youtu.be/lCuFUgQvM3o\n",
            "This video took 8.534650564193726 secs\n",
            "Current Lecture no is 5 and link is https://youtu.be/aNqzt2ZQvVI\n",
            "This video took 9.040547847747803 secs\n",
            "Current Lecture no is 6 and link is https://youtu.be/FABZin7K3rk\n",
            "This video took 11.63147521018982 secs\n",
            "Current Lecture no is 7 and link is https://youtu.be/IbPyr0VplRk\n",
            "This video took 9.576327085494995 secs\n",
            "Current Lecture no is 8 and link is https://youtu.be/-M5HoWZ8WJo\n",
            "This video took 13.215436935424805 secs\n",
            "Current Lecture no is 9 and link is https://youtu.be/D_OArCgrjWs\n",
            "This video took 11.823534727096558 secs\n",
            "Current Lecture no is 10 and link is https://youtu.be/M3EXvj6Rlus\n",
            "This video took 13.044341325759888 secs\n",
            "Current Lecture no is 11 and link is https://youtu.be/O4Hd9_x41Ms\n",
            "This video took 12.308055639266968 secs\n",
            "Current Lecture no is 12 and link is https://youtu.be/RNzOe_h7zJw\n",
            "This video took 12.731329679489136 secs\n",
            "Current Lecture no is 13 and link is https://youtu.be/fFE_sSNiXqk\n",
            "This video took 17.345906496047974 secs\n",
            "Current Lecture no is 14 and link is https://youtu.be/SuAzg_mrqDc\n",
            "This video took 15.447401762008667 secs\n",
            "Current Lecture no is 15 and link is https://youtu.be/GEGf7RlmZkg\n",
            "This video took 23.928895473480225 secs\n",
            "Current Lecture no is 16 and link is https://youtu.be/v0oSqq2Ly5k\n",
            "This video took 19.203773021697998 secs\n",
            "Current Lecture no is 17 and link is https://youtu.be/kt2ZKHCO4Lg\n",
            "This video took 24.222546100616455 secs\n",
            "Current Lecture no is 18 and link is https://youtu.be/ARai_bNvaro\n",
            "This video took 9.242021560668945 secs\n",
            "Current Lecture no is 19 and link is https://youtu.be/2pmtmCqjsdU\n",
            "This video took 13.811078071594238 secs\n",
            "Current Lecture no is 20 and link is https://youtu.be/2rGV-Z6COp8\n",
            "This video took 16.994394302368164 secs\n",
            "Current Lecture no is 21 and link is https://youtu.be/iC4cc99J_FA\n",
            "This video took 16.897990703582764 secs\n",
            "Current Lecture no is 22 and link is https://youtu.be/4o9Jxv-XscY\n",
            "This video took 16.659559726715088 secs\n",
            "Current Lecture no is 23 and link is https://youtu.be/M3YJ1gj464Q\n",
            "This video took 19.873167514801025 secs\n",
            "Current Lecture no is 24 and link is https://youtu.be/soSPwk9YvJA\n",
            "This video took 20.543772220611572 secs\n",
            "Current Lecture no is 25 and link is https://youtu.be/dygNMsR8XZU\n",
            "This video took 21.483206748962402 secs\n",
            "Current Lecture no is 26 and link is https://youtu.be/d47VnoXP4aM\n",
            "This video took 16.486350536346436 secs\n",
            "Current Lecture no is 27 and link is https://youtu.be/TrgmoQuNo3Q\n",
            "This video took 15.556067943572998 secs\n",
            "Current Lecture no is 28 and link is https://youtu.be/AX7T3G9GIMQ\n",
            "This video took 18.280635833740234 secs\n",
            "Current Lecture no is 29 and link is https://youtu.be/lt5e3NizXLs\n",
            "This video took 15.977402925491333 secs\n",
            "Current Lecture no is 30 and link is https://youtu.be/Y4oP7GrHjxQ\n",
            "This video took 14.953910112380981 secs\n",
            "Current Lecture no is 31 and link is https://youtu.be/qKHpBWQbX9o\n",
            "This video took 16.964755535125732 secs\n",
            "Current Lecture no is 32 and link is https://youtu.be/KjB5Xu5XEIM\n",
            "This video took 13.441275835037231 secs\n",
            "Current Lecture no is 33 and link is https://youtu.be/41d6n6pmKtk\n",
            "This video took 13.037113428115845 secs\n",
            "Current Lecture no is 34 and link is https://youtu.be/PztIrCwYc2w\n",
            "This video took 15.991005420684814 secs\n",
            "Current Lecture no is 35 and link is https://youtu.be/uvwureNfeLU\n",
            "This video took 14.173709630966187 secs\n",
            "Current Lecture no is 36 and link is https://youtu.be/UmyKxpk0M7w\n",
            "This video took 18.33158588409424 secs\n",
            "Current Lecture no is 37 and link is https://youtu.be/ToxOXnohMJY\n",
            "This video took 11.800868034362793 secs\n",
            "Task Completed at /content/drive/My Drive/YTLectures/COA Lectures\n",
            "The entire task took 542.8957941532135 secs\n"
          ],
          "name": "stdout"
        }
      ]
    }
  ]
}